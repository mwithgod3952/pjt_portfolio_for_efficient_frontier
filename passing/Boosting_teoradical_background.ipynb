{
 "cells": [
  {
   "cell_type": "markdown",
   "id": "aware-uganda",
   "metadata": {},
   "source": [
    "* Boosting 개요 \n",
    "    - 여러개의 learning 모델을 순차적(sequential)으로 구축하여 최종적으로 합침(ensemble)\n",
    "    - 순차적(sequential) : 모델 구축의 순서를 고려\n",
    "    - 각 단계에서 새로운 base learner를 학습하여 이전 단계의 base leaner의 단점을 보완\n",
    "    - 각 단계를 거치면서 모델이 점차 강해짐 : boosting\n",
    "\n",
    "* Boosting 종류 \n",
    "    - Adaptive boosting (Adaboost)\n",
    "    - Gradient boosting (GBM)\n",
    "    - XGboost\n",
    "    - Light gradient boost machines (Light GBM)\n",
    "    - Catboost\n",
    "\n",
    "#### **Adaptive Boosting(Adaboost)**\n",
    "##### **개요**\n",
    "    - 각 단계에서 새로운 base learner를 학습하여 이전 단계의 base learner의 **단점을 보완\n",
    "    - Trainig error가 큰 관측치의 선택 확률(가중치)를 높이고, training error가 작은 관측치의 선택 확률을 낮춤\n",
    "    \n"
   ]
  },
  {
   "cell_type": "markdown",
   "id": "fifty-construction",
   "metadata": {},
   "source": [
    "<center><img src=\"./image_of_teoretical_background_of_boosting/base_leaner.PNG\" width=800 height=300></center>   \n",
    "\n",
    "***<center>base_leaner</center>***"
   ]
  }
 ],
 "metadata": {
  "kernelspec": {
   "display_name": "Python 3",
   "language": "python",
   "name": "python3"
  },
  "language_info": {
   "codemirror_mode": {
    "name": "ipython",
    "version": 3
   },
   "file_extension": ".py",
   "mimetype": "text/x-python",
   "name": "python",
   "nbconvert_exporter": "python",
   "pygments_lexer": "ipython3",
   "version": "3.9.1"
  }
 },
 "nbformat": 4,
 "nbformat_minor": 5
}
