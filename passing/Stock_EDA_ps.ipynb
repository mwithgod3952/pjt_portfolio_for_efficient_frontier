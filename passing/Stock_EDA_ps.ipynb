{
 "cells": [
  {
   "cell_type": "markdown",
   "metadata": {},
   "source": [
    "_**주식시장 Code정보**_\n",
    "    \n",
    "        - 에스원 : 012750\n",
    "        - HDC 아이콘트롤스 : 039570\n",
    "        - 경동나비엔 : 009450 \n",
    "        - 현대리바트 : 079430\n",
    "        - 엘지전자 : 066570\n",
    "        - 삼성전자 : 005930\n",
    "        - 지에스건설 : 006360\n",
    "        - 에스케이텔레콤 : 017670\n",
    "        - 케이티 : 030200\n",
    "        - 엘지유플러스 : 032640"
   ]
  },
  {
   "cell_type": "code",
   "execution_count": 1,
   "metadata": {},
   "outputs": [],
   "source": [
    "import pandas as pd\n",
    "import numpy as np\n",
    "import requests"
   ]
  },
  {
   "cell_type": "code",
   "execution_count": 2,
   "metadata": {},
   "outputs": [],
   "source": [
    "def cr_df(company, number = 2):\n",
    "    # list_1\n",
    "    df_save = []\n",
    "    recent_date = ['2021-01-31']\n",
    "    df_save.append(pd.DataFrame(recent_date, columns=['date']))\n",
    "    # list_2\n",
    "    params = []\n",
    "    for i in range(number):\n",
    "        params.append({\n",
    "            'access_key': '21ab33d30ae3b6ebcb1e5727a699f17d',\n",
    "            'date_to' : df_save[i]['date'].tail(1)\n",
    "        })\n",
    "        api_result = requests.get(f'https://api.marketstack.com/v1/tickers/{company}/eod', params[i])\n",
    "        api_response = api_result.json()\n",
    "        df_save.append(pd.DataFrame(api_response['data']['eod']))\n",
    "    return pd.concat(df_save).drop(index=0).reset_index().drop_duplicates(\"date\", keep=\"first\")"
   ]
  },
  {
   "cell_type": "code",
   "execution_count": 3,
   "metadata": {
    "scrolled": true
   },
   "outputs": [
    {
     "data": {
      "text/plain": [
       "(['에스원',\n",
       "  'HDC아이콘트롤스',\n",
       "  '경동나비엔',\n",
       "  '현대리바트',\n",
       "  '엘지전자',\n",
       "  '삼성전자',\n",
       "  '지에스건설',\n",
       "  '에스케이텔레콤',\n",
       "  '케이티',\n",
       "  '엘지유플러스'],\n",
       " ['012750',\n",
       "  '039570',\n",
       "  '009450',\n",
       "  '079430',\n",
       "  '066570',\n",
       "  '005930',\n",
       "  '006360',\n",
       "  '017670',\n",
       "  '030200',\n",
       "  '032640'])"
      ]
     },
     "execution_count": 3,
     "metadata": {},
     "output_type": "execute_result"
    }
   ],
   "source": [
    "stock_info = ['에스원 012750', \n",
    "              'HDC아이콘트롤스 039570',\n",
    "              '경동나비엔 009450', \n",
    "              '현대리바트 079430',\n",
    "              '엘지전자 066570',\n",
    "              '삼성전자 005930',\n",
    "              '지에스건설 006360',\n",
    "              '에스케이텔레콤 017670',\n",
    "              '케이티 030200',\n",
    "              '엘지유플러스 032640']\n",
    "\n",
    "stock_name_list = []\n",
    "stock_code_list = []\n",
    "for i in range(len(stock_info)):\n",
    "    sl = stock_info[i].split(' ')\n",
    "    stock_name_list.append(sl[0])\n",
    "    stock_code_list.append(sl[1])\n",
    "stock_name_list , stock_code_list    "
   ]
  },
  {
   "cell_type": "code",
   "execution_count": 4,
   "metadata": {},
   "outputs": [],
   "source": [
    "def c_str(tx):\n",
    "    return tx + '.XKRX'\n",
    "symbols = pd.Series(stock_code_list).to_frame()[0].apply(c_str)\n",
    "\n",
    "Sk_by_comp = []\n",
    "sym_list = symbols.tolist()\n",
    "for stock in range(10):\n",
    "    Sk_by_comp.append(cr_df(sym_list[stock], number = 53))\n",
    "    Sk_by_comp[stock]['symbol'] = np.repeat(stock_name_list[stock], len(Sk_by_comp[stock]), axis=0)"
   ]
  },
  {
   "cell_type": "code",
   "execution_count": 10,
   "metadata": {
    "scrolled": false
   },
   "outputs": [
    {
     "name": "stdout",
     "output_type": "stream",
     "text": [
      "Company        index &last_date\n",
      "-----------------------------------------------------------------\n",
      "에스원 5246    1999-09-22T00:00:00+0000\n",
      "Name: date, dtype: object\n",
      "HDC아이콘트롤스 1310    2015-09-24T00:00:00+0000\n",
      "Name: date, dtype: object\n",
      "경동나비엔 5246    1999-10-05T00:00:00+0000\n",
      "Name: date, dtype: object\n",
      "현대리바트 3752    2005-11-23T00:00:00+0000\n",
      "Name: date, dtype: object\n",
      "엘지전자 4640    2002-04-24T00:00:00+0000\n",
      "Name: date, dtype: object\n",
      "삼성전자 5246    1999-10-21T00:00:00+0000\n",
      "Name: date, dtype: object\n",
      "지에스건설 5246    1999-10-26T00:00:00+0000\n",
      "Name: date, dtype: object\n",
      "에스케이텔레콤 5246    1999-10-22T00:00:00+0000\n",
      "Name: date, dtype: object\n",
      "케이티 5246    1999-10-26T00:00:00+0000\n",
      "Name: date, dtype: object\n",
      "엘지유플러스 5016    2000-10-06T00:00:00+0000\n",
      "Name: date, dtype: object\n"
     ]
    }
   ],
   "source": [
    "# 확인하고자 하는 해당 회사정보, index를 기입\n",
    "# Sk_by_comp[4].tail(1)['date']\n",
    "print('Company    ','   index &last_date')\n",
    "print(65*'-')\n",
    "for i in range(len(stock_info)):\n",
    "    print(Sk_by_comp[i]['symbol'][0], Sk_by_comp[i].tail(1)['date'])"
   ]
  },
  {
   "cell_type": "code",
   "execution_count": 8,
   "metadata": {
    "scrolled": true
   },
   "outputs": [
    {
     "name": "stdout",
     "output_type": "stream",
     "text": [
      " C 드라이브의 볼륨에는 이름이 없습니다.\n",
      " 볼륨 일련 번호: D421-46C3\n",
      "\n",
      " C:\\Users\\이준희\\Documents\\api_D_try 디렉터리\n",
      "\n",
      "2021-02-23  오후 03:15    <DIR>          .\n",
      "2021-02-23  오후 03:15    <DIR>          ..\n",
      "2021-02-22  오후 09:34    <DIR>          .ipynb_checkpoints\n",
      "2021-02-23  오후 03:14    <DIR>          Data\n",
      "2021-02-23  오후 03:15             6,802 Stock_EDA_1.ipynb\n",
      "2021-02-22  오후 08:58            62,292 Tr_toget_info_kor.ipynb\n",
      "               2개 파일              69,094 바이트\n",
      "               4개 디렉터리  367,676,510,208 바이트 남음\n"
     ]
    }
   ],
   "source": [
    "ls"
   ]
  },
  {
   "cell_type": "code",
   "execution_count": 19,
   "metadata": {
    "scrolled": true
   },
   "outputs": [],
   "source": [
    "for i in range(9):\n",
    "    df_name = stock_name_list[i]\n",
    "    Sk_by_comp[i].to_csv(f'Data/{df_name}.csv',index=False)\n",
    "    Sk_by_comp_n.append(pd.read_csv(f'Data/{df_name}.csv'))"
   ]
  },
  {
   "cell_type": "markdown",
   "metadata": {},
   "source": [
    "----------------------------------------------------------------------------------------------"
   ]
  }
 ],
 "metadata": {
  "kernelspec": {
   "display_name": "Python 3",
   "language": "python",
   "name": "python3"
  },
  "language_info": {
   "codemirror_mode": {
    "name": "ipython",
    "version": 3
   },
   "file_extension": ".py",
   "mimetype": "text/x-python",
   "name": "python",
   "nbconvert_exporter": "python",
   "pygments_lexer": "ipython3",
   "version": "3.8.3"
  },
  "toc": {
   "base_numbering": 1,
   "nav_menu": {},
   "number_sections": true,
   "sideBar": true,
   "skip_h1_title": false,
   "title_cell": "Table of Contents",
   "title_sidebar": "Contents",
   "toc_cell": false,
   "toc_position": {},
   "toc_section_display": true,
   "toc_window_display": false
  }
 },
 "nbformat": 4,
 "nbformat_minor": 4
}
