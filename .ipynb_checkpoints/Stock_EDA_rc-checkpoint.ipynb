{
 "cells": [
  {
   "cell_type": "markdown",
   "metadata": {},
   "source": [
    "<h3><center><font color = \"blue\">스마트 홈 관련 코스피 상장사 중 테마주 정보를 중심으로 'Efficient Frontier' 제시</font></h3> \n",
    "<h4><p style='text-align: right;'><font color = \"blue\">(산업분석을 목표로)</font></p></h4>   \n",
    "\n",
    "_**관련 주식시장 Code정보**_\n",
    "    \n",
    "        - 에스원 : 012750\n",
    "        - HDC 아이콘트롤스 : 039570\n",
    "        - 경동나비엔 : 009450 \n",
    "        - 현대리바트 : 079430\n",
    "        - 엘지전자 : 066570\n",
    "        - 삼성전자 : 005930\n",
    "        - 지에스건설 : 006360\n",
    "        - 에스케이텔레콤 : 017670\n",
    "        - 케이티 : 030200\n",
    "        - 엘지유플러스 : 032640"
   ]
  },
  {
   "cell_type": "code",
   "execution_count": 9,
   "metadata": {},
   "outputs": [],
   "source": [
    "import requests\n",
    "import pandas as pd\n",
    "import numpy as np\n",
    "\n",
    "import os"
   ]
  },
  {
   "cell_type": "code",
   "execution_count": 2,
   "metadata": {},
   "outputs": [],
   "source": [
    "def cr_df(company, number = 2):\n",
    "    # list_1\n",
    "    df_save = []\n",
    "    recent_date = ['2021-01-31']\n",
    "    df_save.append(pd.DataFrame(recent_date, columns=['date']))\n",
    "    # list_2\n",
    "    params = []\n",
    "    for i in range(number):\n",
    "        params.append({\n",
    "            'access_key': '21ab33d30ae3b6ebcb1e5727a699f17d',\n",
    "            'date_to' : df_save[i]['date'].tail(1)\n",
    "        })\n",
    "        api_result = requests.get(f'https://api.marketstack.com/v1/tickers/{company}/eod', params[i])\n",
    "        api_response = api_result.json()\n",
    "        df_save.append(pd.DataFrame(api_response['data']['eod']))\n",
    "    return pd.concat(df_save).drop(index=0).reset_index().drop_duplicates(\"date\", keep=\"first\")"
   ]
  },
  {
   "cell_type": "code",
   "execution_count": 3,
   "metadata": {
    "collapsed": true
   },
   "outputs": [
    {
     "data": {
      "text/plain": [
       "(['에스원',\n",
       "  'HDC아이콘트롤스',\n",
       "  '경동나비엔',\n",
       "  '현대리바트',\n",
       "  '엘지전자',\n",
       "  '삼성전자',\n",
       "  '지에스건설',\n",
       "  '에스케이텔레콤',\n",
       "  '케이티',\n",
       "  '엘지유플러스'],\n",
       " ['012750',\n",
       "  '039570',\n",
       "  '009450',\n",
       "  '079430',\n",
       "  '066570',\n",
       "  '005930',\n",
       "  '006360',\n",
       "  '017670',\n",
       "  '030200',\n",
       "  '032640'])"
      ]
     },
     "execution_count": 3,
     "metadata": {},
     "output_type": "execute_result"
    }
   ],
   "source": [
    "stock_info = ['에스원 012750', \n",
    "              'HDC아이콘트롤스 039570',\n",
    "              '경동나비엔 009450', \n",
    "              '현대리바트 079430',\n",
    "              '엘지전자 066570',\n",
    "              '삼성전자 005930',\n",
    "              '지에스건설 006360',\n",
    "              '에스케이텔레콤 017670',\n",
    "              '케이티 030200',\n",
    "              '엘지유플러스 032640']\n",
    "\n",
    "stock_name_list = []\n",
    "stock_code_list = []\n",
    "for i in range(len(stock_info)):\n",
    "    sl = stock_info[i].split(' ')\n",
    "    stock_name_list.append(sl[0])\n",
    "    stock_code_list.append(sl[1])\n",
    "# stock_name_list , stock_code_list    "
   ]
  },
  {
   "cell_type": "code",
   "execution_count": 4,
   "metadata": {},
   "outputs": [],
   "source": [
    "# 해당 주식정보 불러오기\n",
    "def c_str(tx):\n",
    "    return tx + '.XKRX'\n",
    "symbols = pd.Series(stock_code_list).to_frame()[0].apply(c_str)\n",
    "\n",
    "Sk_by_comp = []\n",
    "sym_list = symbols.tolist()\n",
    "for stock in range(10):\n",
    "    Sk_by_comp.append(cr_df(sym_list[stock], number = 53))\n",
    "    Sk_by_comp[stock]['symbol'] = np.repeat(stock_name_list[stock], len(Sk_by_comp[stock]), axis=0)"
   ]
  },
  {
   "cell_type": "code",
   "execution_count": 34,
   "metadata": {
    "scrolled": false
   },
   "outputs": [
    {
     "name": "stdout",
     "output_type": "stream",
     "text": [
      "['skinfo_에스원.csv']\n",
      "['skinfo_HDC아이콘트롤스.csv']\n",
      "['skinfo_경동나비엔.csv']\n",
      "['skinfo_현대리바트.csv']\n",
      "['skinfo_엘지전자.csv']\n",
      "['skinfo_삼성전자.csv']\n",
      "['skinfo_지에스건설.csv']\n",
      "['skinfo_에스케이텔레콤.csv']\n",
      "['skinfo_케이티.csv']\n",
      "['skinfo_엘지유플러스.csv']\n"
     ]
    }
   ],
   "source": [
    "# 파일 csv변환 및 변환된 파일 불러오기\n",
    "Sk_by_comp_n = []\n",
    "for i in range(10):\n",
    "    sk_name = stock_name_list[i]\n",
    "    Sk_by_comp[i].to_csv(f'Data/skinfo_{sk_name}.csv',index=False)\n",
    "    Sk_by_comp_n.append(pd.read_csv(f'Data/skinfo_{sk_name}.csv'))\n",
    "# 파일 저장상태 확인\n",
    "def get_file_list_title(sk_name):\n",
    "    file_list = []\n",
    "    for root, dirs, files in os.walk(\"Data/\"):\n",
    "        for filename in files:\n",
    "            if filename.startswith(f'skinfo_{sk_name}'):\n",
    "                file_list.append(filename)\n",
    "    return sorted(file_list)\n",
    "for i in range(10):\n",
    "    print(get_file_list_title(stock_name_list[i]))       "
   ]
  },
  {
   "cell_type": "code",
   "execution_count": 41,
   "metadata": {},
   "outputs": [
    {
     "data": {
      "text/html": [
       "<div>\n",
       "<style scoped>\n",
       "    .dataframe tbody tr th:only-of-type {\n",
       "        vertical-align: middle;\n",
       "    }\n",
       "\n",
       "    .dataframe tbody tr th {\n",
       "        vertical-align: top;\n",
       "    }\n",
       "\n",
       "    .dataframe thead th {\n",
       "        text-align: right;\n",
       "    }\n",
       "</style>\n",
       "<table border=\"1\" class=\"dataframe\">\n",
       "  <thead>\n",
       "    <tr style=\"text-align: right;\">\n",
       "      <th></th>\n",
       "      <th>index</th>\n",
       "      <th>date</th>\n",
       "      <th>open</th>\n",
       "      <th>high</th>\n",
       "      <th>low</th>\n",
       "      <th>close</th>\n",
       "      <th>volume</th>\n",
       "      <th>adj_high</th>\n",
       "      <th>adj_low</th>\n",
       "      <th>adj_close</th>\n",
       "      <th>adj_open</th>\n",
       "      <th>adj_volume</th>\n",
       "      <th>symbol</th>\n",
       "      <th>exchange</th>\n",
       "    </tr>\n",
       "  </thead>\n",
       "  <tbody>\n",
       "    <tr>\n",
       "      <th>5246</th>\n",
       "      <td>99</td>\n",
       "      <td>1999-09-22T00:00:00+0000</td>\n",
       "      <td>26230.827</td>\n",
       "      <td>26230.827</td>\n",
       "      <td>25466.8223</td>\n",
       "      <td>25848.8245</td>\n",
       "      <td>49556.12</td>\n",
       "      <td>NaN</td>\n",
       "      <td>NaN</td>\n",
       "      <td>17258.5479</td>\n",
       "      <td>NaN</td>\n",
       "      <td>NaN</td>\n",
       "      <td>에스원</td>\n",
       "      <td>XKRX</td>\n",
       "    </tr>\n",
       "  </tbody>\n",
       "</table>\n",
       "</div>"
      ],
      "text/plain": [
       "      index                      date       open       high         low  \\\n",
       "5246     99  1999-09-22T00:00:00+0000  26230.827  26230.827  25466.8223   \n",
       "\n",
       "           close    volume  adj_high  adj_low   adj_close  adj_open  \\\n",
       "5246  25848.8245  49556.12       NaN      NaN  17258.5479       NaN   \n",
       "\n",
       "      adj_volume symbol exchange  \n",
       "5246         NaN    에스원     XKRX  "
      ]
     },
     "execution_count": 41,
     "metadata": {},
     "output_type": "execute_result"
    }
   ],
   "source": [
    "# 원하는 관련회사 인덱스 기입 및 해당 데이터 확인\n",
    "Sk_by_comp_n[0].tail(1) # Example"
   ]
  },
  {
   "cell_type": "code",
   "execution_count": 37,
   "metadata": {
    "scrolled": false
   },
   "outputs": [
    {
     "name": "stdout",
     "output_type": "stream",
     "text": [
      "Company        index &last_date\n",
      "-----------------------------------------------------------------\n",
      "에스원 5246    1999-09-22T00:00:00+0000\n",
      "Name: date, dtype: object\n",
      "HDC아이콘트롤스 1310    2015-09-24T00:00:00+0000\n",
      "Name: date, dtype: object\n",
      "경동나비엔 5246    1999-10-05T00:00:00+0000\n",
      "Name: date, dtype: object\n",
      "현대리바트 3752    2005-11-23T00:00:00+0000\n",
      "Name: date, dtype: object\n",
      "엘지전자 4640    2002-04-24T00:00:00+0000\n",
      "Name: date, dtype: object\n",
      "삼성전자 5246    1999-10-21T00:00:00+0000\n",
      "Name: date, dtype: object\n",
      "지에스건설 5246    1999-10-26T00:00:00+0000\n",
      "Name: date, dtype: object\n",
      "에스케이텔레콤 5246    1999-10-22T00:00:00+0000\n",
      "Name: date, dtype: object\n",
      "케이티 5246    1999-10-26T00:00:00+0000\n",
      "Name: date, dtype: object\n",
      "엘지유플러스 5016    2000-10-06T00:00:00+0000\n",
      "Name: date, dtype: object\n"
     ]
    }
   ],
   "source": [
    "# 각 회사의 마지막 주식 날짜정보 확인\n",
    "print('Company    ','   index &last_date')\n",
    "print(65*'-')\n",
    "for i in range(len(stock_info)):\n",
    "    print(Sk_by_comp_n[i]['symbol'][0], Sk_by_comp_n[i].tail(1)['date'])"
   ]
  },
  {
   "cell_type": "code",
   "execution_count": null,
   "metadata": {},
   "outputs": [],
   "source": []
  },
  {
   "cell_type": "markdown",
   "metadata": {},
   "source": [
    "----------------------------------------------------------------------------------------------"
   ]
  }
 ],
 "metadata": {
  "kernelspec": {
   "display_name": "Python 3",
   "language": "python",
   "name": "python3"
  },
  "language_info": {
   "codemirror_mode": {
    "name": "ipython",
    "version": 3
   },
   "file_extension": ".py",
   "mimetype": "text/x-python",
   "name": "python",
   "nbconvert_exporter": "python",
   "pygments_lexer": "ipython3",
   "version": "3.8.3"
  },
  "toc": {
   "base_numbering": 1,
   "nav_menu": {},
   "number_sections": true,
   "sideBar": true,
   "skip_h1_title": false,
   "title_cell": "Table of Contents",
   "title_sidebar": "Contents",
   "toc_cell": false,
   "toc_position": {},
   "toc_section_display": true,
   "toc_window_display": false
  }
 },
 "nbformat": 4,
 "nbformat_minor": 4
}
