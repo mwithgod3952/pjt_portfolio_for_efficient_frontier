{
 "cells": [
  {
   "cell_type": "markdown",
   "id": "amazing-religion",
   "metadata": {},
   "source": [
    "***What is a Good Shap Ratio***\n",
    "\n",
    "출처 : https://www.investopedia.com/ask/answers/010815/what-good-sharpe-ratio.asp"
   ]
  },
  {
   "cell_type": "markdown",
   "id": "alien-calendar",
   "metadata": {},
   "source": [
    "- risk-adjusted return on an investment or portfolio\n",
    "- The Sharpe ratio can be used to evaluate the total performance of an aggregate investment \n",
    "portfolio or the performance of an individual stock.\n",
    "포트폴리오 또는 개별 주식의 성과와 관련하여, 총 투자의 총 성과를 평가하기 위한 지표\n",
    "\n",
    "- The Sharpe ratio indicates how well an equity investment performs in comparison to the rate of return on a (1)**risk-free investment**\n",
    "- the risk-free instrument chosen should more closely match the length of time that an investor expects to hold the equity investments.\n",
    "    > 투자자가 생각하는 이상적인 매수한 상태로의 기간 즉, 투자기간 대비의 안전성과 관련하여 Sharpe ratio indicator를 활용해 볼 수 있음\n",
    "\n",
    "**핵심**\n",
    "* The Sharpe ratio indicates how well an equity investment performs in comparison to the rate of return on a risk-free investment, such as U.S. government treasury bonds or bills.\n",
    "* To calculate the Sharpe ratio, you first calculate the expected return on an investment portfolio or individual stock and then subtract the risk-free rate of return.\n",
    "* The main problem with the Sharpe ratio is that it is accentuated by investments that don't have a normal distribution of returns.\n",
    "    > 그렇다. 투자대비 수익은 정규분포를 얻을 수 없다. \n",
    "    그러나, 내가 주장하고자 하는 바는, 이와 같은 경제지표를 통해 투자선을 확복할 수 있음으로 인해, 시장의 안정성에 대한 지표 또는, 특정 전략들이 내포된 수익구조에 대해 평가지표로서 활용될 수 있다는 점이다\n",
    "\n",
    "\n",
    "$Sharpe Ratio = \\frac{R_p - R_f}{\\sigma_p}$\n",
    "\n",
    "$where:$\n",
    "\n",
    "$R_p = the expected return on the asset or portfolio$\\\n",
    "$R_f = the risk-free rate of return$\\\n",
    "$\\sigma_p = the standard deviation of returns (the risk) of the asset or portfolio$ \n",
    "\n",
    "\n",
    "\n",
    "\n",
    "**각주 :** \n",
    "\n",
    "<font color = \"blue\">***(1) risk-free rate***</font> : In theory, the risk-free rate is the minimum return an investor expects for any investment because he will not accept additional risk unless the potential rate of return is greater than the risk-free rate. \n"
   ]
  },
  {
   "cell_type": "markdown",
   "id": "acoustic-rally",
   "metadata": {},
   "source": [
    "<center><img src=\"https://www.investopedia.com/thmb/eDX9CvfzP5YULdOvbM2U266r14g=/1691x0/filters:no_upscale():max_bytes(150000):strip_icc():format(webp)/dotdash_Final_How_Risk_Free_Is_the_Risk_Free_Rate_of_Return_Feb_2020-96f00395de3d40668f31522801756339.jpg\" width=600 height=300></center>\n",
    "\n",
    "**<center>The risk-free rate is an important building block for MPT. As referenced in the figure above, the risk-free rate is the baseline where the lowest return can be found with the least amount of risk</center>**"
   ]
  },
  {
   "cell_type": "markdown",
   "id": "substantial-surprise",
   "metadata": {},
   "source": []
  }
 ],
 "metadata": {
  "kernelspec": {
   "display_name": "Python 3",
   "language": "python",
   "name": "python3"
  },
  "language_info": {
   "codemirror_mode": {
    "name": "ipython",
    "version": 3
   },
   "file_extension": ".py",
   "mimetype": "text/x-python",
   "name": "python",
   "nbconvert_exporter": "python",
   "pygments_lexer": "ipython3",
   "version": "3.9.1"
  }
 },
 "nbformat": 4,
 "nbformat_minor": 5
}
